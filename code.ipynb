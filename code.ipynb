{
 "cells": [
  {
   "cell_type": "code",
   "execution_count": null,
   "metadata": {},
   "outputs": [],
   "source": [
    "def findSchedule(friendcode):\n",
    "    '''\n",
    "    everytime의 친구 시간표 공유 링크에서 시간표 입력값을 추출하는 함수\n",
    "    INPUT : friendcode(친구 공유 링크 뒷부분 @ 뒤에 붙어있는 String)\n",
    "    OUTPUT : List<Dictionary> {학생ID, 요일, 시작시간, 종료시간}\n",
    "    DAY는 0~4의 값을 가지며 각각 월, 화, 수, 목, 금이다.\n",
    "    starttime, endtime은 12로 나누면 시간이 나온다. ex) 144/12 = 12, 216 / 12 = 18\n",
    "    '''\n",
    "    result = []\n",
    "    if friendcode[0:5] == \"http\":\n",
    "        pass ## TODO: http로 들어오는 링크 전처리\n",
    "    \n",
    "    url = 'https://api.everytime.kr/find/timetable/table/friend'\n",
    "    data = {\n",
    "    'identifier' : friendcode,\n",
    "    'friend' : 'true'\n",
    "    }\n",
    "    res = req.post(url,data)\n",
    "    soup = BeautifulSoup(res.text, 'lxml')\n",
    "    for data in soup.find_all('data'):\n",
    "        result.append({'friend': friendcode, 'day': data['day'], 'starttime': data['starttime'], 'endtime': data['endtime']})\n",
    "    return result\n",
    "\n",
    "\n",
    " "
   ]
  },
  {
   "cell_type": "code",
   "execution_count": null,
   "metadata": {},
   "outputs": [],
   "source": [
    "choi = findSchedule('rwkBHuIcKuXUJu0zzcr6')\n",
    "shin = findSchedule('????')"
   ]
  },
  {
   "cell_type": "code",
   "execution_count": null,
   "metadata": {},
   "outputs": [],
   "source": [
    "import pandas as pd\n",
    "df = pd.DataFrame(choi)\n",
    "df.sort_values(by=['day', 'starttime'])"
   ]
  },
  {
   "cell_type": "code",
   "execution_count": null,
   "metadata": {},
   "outputs": [],
   "source": []
  },
  {
   "cell_type": "code",
   "execution_count": null,
   "metadata": {},
   "outputs": [],
   "source": [
    "함수1 - 에브리타임 시간표에 사용하는 시간 양식으로 실제 시간 변경\n",
    "\n",
    "함수2 - 함수 1의 반대\n",
    "\n",
    "함수3 - 에브리타임에 링크 받아서 시간표 뽑아오기\n"
   ]
  }
 ],
 "metadata": {
  "kernelspec": {
   "display_name": "Python 3",
   "language": "python",
   "name": "python3"
  },
  "language_info": {
   "codemirror_mode": {
    "name": "ipython",
    "version": 3
   },
   "file_extension": ".py",
   "mimetype": "text/x-python",
   "name": "python",
   "nbconvert_exporter": "python",
   "pygments_lexer": "ipython3",
   "version": "3.7.3"
  }
 },
 "nbformat": 4,
 "nbformat_minor": 2
}
